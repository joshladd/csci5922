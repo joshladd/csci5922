{
 "cells": [
  {
   "cell_type": "code",
   "execution_count": 6,
   "metadata": {
    "colab": {
     "base_uri": "https://localhost:8080/",
     "height": 34
    },
    "colab_type": "code",
    "id": "FxasogrKcxGF",
    "outputId": "2c085646-c294-48d0-a573-79ffccdaba70"
   },
   "outputs": [
    {
     "name": "stdout",
     "output_type": "stream",
     "text": [
      "2.1.0\n"
     ]
    }
   ],
   "source": [
    "import tensorflow as tf\n",
    "print(tf.__version__)\n",
    "from tensorflow.keras.layers import *\n",
    "from tensorflow.keras.losses import *\n",
    "import numpy as np\n",
    "import pickle\n",
    "from sklearn.model_selection import train_test_split\n",
    "import pandas as pd\n",
    "from collections import defaultdict\n",
    "from tensorflow.keras.utils import plot_model\n"
   ]
  },
  {
   "cell_type": "code",
   "execution_count": 3,
   "metadata": {
    "colab": {},
    "colab_type": "code",
    "id": "RZ-nKQiOc0ke"
   },
   "outputs": [],
   "source": [
    "#just a continuous 1-line epoch print\n",
    "class create_accuracy_callback(tf.keras.callbacks.Callback):\n",
    "    '''\n",
    "    Callback function to stop training at 100% accuracy\n",
    "    '''\n",
    "    def on_epoch_end(self, epoch, logs={}):\n",
    "        #one line print of the epoch, training accuracy, and validation accuracy\n",
    "      \n",
    "        if epoch != 0 and epoch % 5 == 0:\n",
    "            print(\"\\repoch: %d, train_acc: %1.4f, val_acc: %1.4f\" % (epoch,logs['accuracy'],logs['val_accuracy']),end=\"\")\n"
   ]
  },
  {
   "cell_type": "code",
   "execution_count": 7,
   "metadata": {
    "colab": {
     "base_uri": "https://localhost:8080/",
     "height": 1000
    },
    "colab_type": "code",
    "id": "rfrlC9LsdmF_",
    "outputId": "f4a638b5-b024-4da9-b320-ffc20a85025d"
   },
   "outputs": [
    {
     "name": "stdout",
     "output_type": "stream",
     "text": [
      "Model: \"sequential_1\"\n",
      "_________________________________________________________________\n",
      "Layer (type)                 Output Shape              Param #   \n",
      "=================================================================\n",
      "batch_normalization_1 (Batch (None, 2, 19)             76        \n",
      "_________________________________________________________________\n",
      "dropout_3 (Dropout)          (None, 2, 19)             0         \n",
      "_________________________________________________________________\n",
      "lstm_1 (LSTM)                (None, 2, 38)             8816      \n",
      "_________________________________________________________________\n",
      "dropout_4 (Dropout)          (None, 2, 38)             0         \n",
      "_________________________________________________________________\n",
      "time_distributed_1 (TimeDist (None, 2, 38)             1482      \n",
      "_________________________________________________________________\n",
      "flatten_1 (Flatten)          (None, 76)                0         \n",
      "_________________________________________________________________\n",
      "dropout_5 (Dropout)          (None, 76)                0         \n",
      "_________________________________________________________________\n",
      "dense_3 (Dense)              (None, 2)                 154       \n",
      "=================================================================\n",
      "Total params: 10,528\n",
      "Trainable params: 10,490\n",
      "Non-trainable params: 38\n",
      "_________________________________________________________________\n",
      "Failed to import pydot. You must install pydot and graphviz for `pydotprint` to work.\n",
      "Model: \"sequential_2\"\n",
      "_________________________________________________________________\n",
      "Layer (type)                 Output Shape              Param #   \n",
      "=================================================================\n",
      "gaussian_noise (GaussianNois (None, 10, 38)            0         \n",
      "_________________________________________________________________\n",
      "time_distributed_2 (TimeDist (None, 10, 38)            1482      \n",
      "_________________________________________________________________\n",
      "lstm_2 (LSTM)                (None, 50)                17800     \n",
      "_________________________________________________________________\n",
      "dense_5 (Dense)              (None, 50)                2550      \n",
      "_________________________________________________________________\n",
      "dropout_6 (Dropout)          (None, 50)                0         \n",
      "_________________________________________________________________\n",
      "dense_6 (Dense)              (None, 1)                 51        \n",
      "=================================================================\n",
      "Total params: 21,883\n",
      "Trainable params: 21,883\n",
      "Non-trainable params: 0\n",
      "_________________________________________________________________\n",
      "Failed to import pydot. You must install pydot and graphviz for `pydotprint` to work.\n"
     ]
    }
   ],
   "source": [
    "from tensorflow.keras.constraints import MinMaxNorm\n",
    "\n",
    "def build_instance_model(H=200,rate=0.25,n_features=38):\n",
    "\n",
    "    model = tf.keras.Sequential([\n",
    "        BatchNormalization(input_shape=(2,19)),              \n",
    "        Dropout(rate),\n",
    "        LSTM(n_features,return_sequences=True),\n",
    "        Dropout(rate*2),\n",
    "        TimeDistributed(Dense(n_features,activation=\"relu\")),\n",
    "        Flatten(),\n",
    "        Dropout(rate),\n",
    "        Dense(2, activation=\"sigmoid\")\n",
    "    ])\n",
    "\n",
    "    return model\n",
    "\n",
    "\n",
    "def build_model(H=50,n_features=38,n_steps=10,rate=0.25):\n",
    "    model = tf.keras.Sequential([\n",
    "                                 \n",
    "        tf.keras.layers.GaussianNoise(0.0001,dtype=\"float32\",input_shape=(n_steps,n_features)),\n",
    "        tf.keras.layers.TimeDistributed(tf.keras.layers.Dense(n_features,activation=\"relu\")),\n",
    "        tf.keras.layers.LSTM(H,input_shape=(n_steps,n_features)),\n",
    "        tf.keras.layers.Dense(H,activation=\"relu\"),\n",
    "        tf.keras.layers.Dropout(rate),\n",
    "        tf.keras.layers.Dense(1,activation='relu')\n",
    "    ])\n",
    "    \n",
    "\n",
    "    return model\n",
    "\n",
    "\n",
    "\n",
    "model = build_instance_model()\n",
    "model.summary()\n",
    "plot_model(model,show_shapes=True,to_file=\"./inst.png\")\n",
    "\n",
    "\n",
    "model = build_model()\n",
    "model.summary()\n",
    "plot_model(model,show_shapes=True,to_file=\"./lstm.png\")\n"
   ]
  },
  {
   "cell_type": "code",
   "execution_count": 8,
   "metadata": {
    "colab": {},
    "colab_type": "code",
    "id": "gNgEpHY5dpuB"
   },
   "outputs": [],
   "source": [
    "from tensorflow.keras.optimizers.schedules import InverseTimeDecay, ExponentialDecay\n",
    "from tensorflow.keras.utils import plot_model\n",
    "import os\n",
    "\n",
    "BATCH = 1000\n",
    "MAX_EPOCHS = 5000\n",
    "check_accuracy = create_accuracy_callback()\n",
    "\n",
    "def train_model(model,data_train,data_test,lr=1e-2,momentum=0.9,clipnorm=0.5,fname=\"model\"):\n",
    "\n",
    "    lr_schedule = InverseTimeDecay(lr,\n",
    "                                   decay_steps=10*100,\n",
    "                                   decay_rate=0.8,\n",
    "                                   staircase=False)\n",
    "\n",
    "\n",
    "\n",
    "    model.compile(loss=tf.keras.losses.MeanSquaredError(),\n",
    "                  optimizer=tf.keras.optimizers.Adadelta(0.25),\n",
    "                  metrics=['accuracy'])\n",
    "\n",
    "    \n",
    "    history = model.fit(data_train,\n",
    "              epochs=MAX_EPOCHS,\n",
    "              validation_data=data_test,\n",
    "              callbacks=[check_accuracy],\n",
    "              verbose=0)\n",
    "    \n",
    "\n",
    "    "
   ]
  },
  {
   "cell_type": "code",
   "execution_count": null,
   "metadata": {
    "colab": {
     "base_uri": "https://localhost:8080/",
     "height": 425
    },
    "colab_type": "code",
    "id": "SQffXkcddxCI",
    "outputId": "7fe900b4-95ed-41e8-e9ca-2d78142c6932"
   },
   "outputs": [],
   "source": [
    "\n",
    "#this uses various slices of data gathered from my nhlData processing file\n",
    "#it will not work without first running it and generating some files\n",
    "f = [[\"cumulative\"],[\"travel\"],[\"travel-cumulative\"],[\"travel-league_percentile\"],[\"travel-game\"],[\"league_percentile\"],[\"game\"],[\"team_percentile\"],]\n",
    "\n",
    "datas = defaultdict(lambda: {})\n",
    "for fileset in f:\n",
    "    with open(\"./X_%s_N5.pkl\" % fileset[0],'rb') as f:\n",
    "        X = pickle.load(f)\n",
    "        \n",
    "    if 19652 not in X.shape:\n",
    "      X = np.swapaxes(X,0,1)\n",
    "      X = np.swapaxes(X,0,2)\n",
    "    print(X.shape)\n",
    "    \n",
    "    with open(\"./y_%s_N5.pkl\" % fileset[0],'rb') as f:\n",
    "        y = pickle.load(f)\n",
    "    print(y.shape)\n",
    "    print()\n",
    "\n",
    "    datas[fileset[0]]= (X,y)\n",
    "\n"
   ]
  },
  {
   "cell_type": "code",
   "execution_count": null,
   "metadata": {
    "colab": {
     "base_uri": "https://localhost:8080/",
     "height": 640
    },
    "colab_type": "code",
    "id": "_DxcGCR8d2Hy",
    "outputId": "f3b8447c-e429-4101-f666-c4e050ee0a99"
   },
   "outputs": [],
   "source": [
    "import json\n",
    "\n",
    "accs = {}\n",
    "accs[\"hidden_units\"] = []\n",
    "accs[\"accuracy\"] = []\n",
    "accs[\"lr\"] = []\n",
    "accs[\"features\"] = []\n",
    "\n",
    "Hs = [200,100,50]\n",
    "LR = [0.1,0.01]\n",
    "H = 100\n",
    "for features in datas:\n",
    "    print(features)\n",
    "    X,y = datas[features]\n",
    "\n",
    "    # fname = \"H\"+str(H)+\"_N10_\" + \"t\"\n",
    "    for rep in range(2):\n",
    "        if len(y.shape) > 1:\n",
    "        y = y[:,:1]\n",
    "        X_train,X_test,y_train,y_test = train_test_split(X,y,test_size=0.2, shuffle=True)\n",
    "        X_train,X_valid,y_train,y_valid = train_test_split(X_train,y_train,test_size=0.2, shuffle=True)\n",
    "\n",
    "\n",
    "        train_dataset = tf.data.Dataset.from_tensor_slices((np.array(X_train), y_train))\n",
    "        train_dataset = train_dataset.batch(BATCH)\n",
    "        valid_dataset = tf.data.Dataset.from_tensor_slices((X_valid,y_valid))\n",
    "        valid_dataset = valid_dataset.batch(BATCH)\n",
    "\n",
    "        test_dataset = tf.data.Dataset.from_tensor_slices((X_test,y_test))\n",
    "        test_dataset = test_dataset.batch(BATCH)\n",
    "\n",
    "        model = build_model(H=100,n_steps=X_train.shape[1],n_features=X_test.shape[2])\n",
    "        train_model(model,train_dataset,valid_dataset,lr=0.01)\n",
    "\n",
    "        test_acc = model.evaluate(test_dataset)[-1]\n",
    "        accs[\"accuracy\"].append(test_acc)\n",
    "        accs[\"features\"].append(features)\n",
    "\n",
    "\n",
    "\n",
    "\n",
    "with open(\"./valid_acc_features.json\",\"w\") as f:\n",
    "    json.dump(accs,f)\n",
    "\n",
    "\n",
    " \n"
   ]
  },
  {
   "cell_type": "code",
   "execution_count": 0,
   "metadata": {
    "colab": {},
    "colab_type": "code",
    "id": "55ta0P_IiaLR"
   },
   "outputs": [],
   "source": []
  },
  {
   "cell_type": "code",
   "execution_count": null,
   "metadata": {
    "colab": {
     "base_uri": "https://localhost:8080/",
     "height": 307
    },
    "colab_type": "code",
    "id": "mDXREmemiheq",
    "outputId": "b79203ea-817b-48e8-bd96-20d106922def"
   },
   "outputs": [],
   "source": []
  },
  {
   "cell_type": "code",
   "execution_count": 0,
   "metadata": {
    "colab": {
     "base_uri": "https://localhost:8080/",
     "height": 34
    },
    "colab_type": "code",
    "id": "Ot9gTWhcLPam",
    "outputId": "84060a70-59d1-4196-e304-dfb926248281"
   },
   "outputs": [
    {
     "name": "stdout",
     "output_type": "stream",
     "text": [
      "[('hidden_units', 0), ('accuracy', 16), ('lr', 0), ('features', 16)]\n"
     ]
    }
   ],
   "source": [
    "print([(i,len(accs[i])) for i in accs])"
   ]
  },
  {
   "cell_type": "code",
   "execution_count": 0,
   "metadata": {
    "colab": {},
    "colab_type": "code",
    "id": "bdzGglBBLW2L"
   },
   "outputs": [],
   "source": [
    "accs = {\"features\":accs[\"features\"],\"accuracy\":accs[\"accuracy\"]}\n",
    "accs = pd.DataFrame(accs)"
   ]
  },
  {
   "cell_type": "code",
   "execution_count": 0,
   "metadata": {
    "colab": {
     "base_uri": "https://localhost:8080/",
     "height": 407
    },
    "colab_type": "code",
    "id": "8tip_8_NLmcy",
    "outputId": "9b305eca-c476-445a-da7a-8c4c8eed4d0f"
   },
   "outputs": [
    {
     "data": {
      "image/png": "[encoded data removed]",
      "text/plain": [
       "<Figure size 432x288 with 1 Axes>"
      ]
     },
     "metadata": {
      "needs_background": "light",
      "tags": []
     },
     "output_type": "display_data"
    }
   ],
   "source": [
    "import matplotlib.pyplot as plt\n",
    "import seaborn as sns\n",
    "\n",
    "sns.barplot(x=\"features\",y=\"accuracy\",data=accs)\n",
    "plt.title(\"Accuracy for Various Feature Sets\")\n",
    "plt.xticks(rotation=90)\n",
    "plt.savefig(\"fig2.png\")\n",
    "plt.show()"
   ]
  },
  {
   "cell_type": "code",
   "execution_count": 0,
   "metadata": {
    "colab": {},
    "colab_type": "code",
    "id": "8JaxuLojL3Vu"
   },
   "outputs": [],
   "source": []
  }
 ],
 "metadata": {
  "accelerator": "GPU",
  "colab": {
   "collapsed_sections": [],
   "machine_shape": "hm",
   "name": "Untitled0.ipynb",
   "provenance": []
  },
  "kernelspec": {
   "display_name": "Python 3",
   "language": "python",
   "name": "python3"
  },
  "language_info": {
   "codemirror_mode": {
    "name": "ipython",
    "version": 3
   },
   "file_extension": ".py",
   "mimetype": "text/x-python",
   "name": "python",
   "nbconvert_exporter": "python",
   "pygments_lexer": "ipython3",
   "version": "3.6.10"
  }
 },
 "nbformat": 4,
 "nbformat_minor": 1
}
